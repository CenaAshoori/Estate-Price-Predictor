{
 "cells": [
  {
   "cell_type": "code",
   "execution_count": 56,
   "id": "ede4ecd4-de5b-4d23-8517-790891596095",
   "metadata": {},
   "outputs": [
    {
     "data": {
      "text/plain": [
       "DecisionTreeClassifier()"
      ]
     },
     "execution_count": 56,
     "metadata": {},
     "output_type": "execute_result"
    }
   ],
   "source": [
    "import pandas as pd\n",
    "from sklearn.tree import DecisionTreeClassifier\n",
    "from sklearn.linear_model import LinearRegression\n",
    "\n",
    "estate_data = pd.read_csv(\"estate_all.csv\")\n",
    "input_data = estate_data.drop(columns = ['price'])\n",
    "output_data = estate_data['price']\n",
    "# model = LinearRegression()\n",
    "model = DecisionTreeClassifier()\n",
    "model.fit(input_data , output_data)\n",
    "\n",
    "\n"
   ]
  },
  {
   "cell_type": "code",
   "execution_count": 42,
   "id": "26386184-f0d7-4aa4-8e2b-eb4752260a01",
   "metadata": {},
   "outputs": [
    {
     "data": {
      "text/html": [
       "<div>\n",
       "<style scoped>\n",
       "    .dataframe tbody tr th:only-of-type {\n",
       "        vertical-align: middle;\n",
       "    }\n",
       "\n",
       "    .dataframe tbody tr th {\n",
       "        vertical-align: top;\n",
       "    }\n",
       "\n",
       "    .dataframe thead th {\n",
       "        text-align: right;\n",
       "    }\n",
       "</style>\n",
       "<table border=\"1\" class=\"dataframe\">\n",
       "  <thead>\n",
       "    <tr style=\"text-align: right;\">\n",
       "      <th></th>\n",
       "      <th>x</th>\n",
       "      <th>y</th>\n",
       "      <th>price</th>\n",
       "    </tr>\n",
       "  </thead>\n",
       "  <tbody>\n",
       "    <tr>\n",
       "      <th>count</th>\n",
       "      <td>35.000000</td>\n",
       "      <td>35.000000</td>\n",
       "      <td>3.500000e+01</td>\n",
       "    </tr>\n",
       "    <tr>\n",
       "      <th>mean</th>\n",
       "      <td>34.125872</td>\n",
       "      <td>52.460552</td>\n",
       "      <td>1.345714e+07</td>\n",
       "    </tr>\n",
       "    <tr>\n",
       "      <th>std</th>\n",
       "      <td>3.164615</td>\n",
       "      <td>2.891682</td>\n",
       "      <td>1.022495e+07</td>\n",
       "    </tr>\n",
       "    <tr>\n",
       "      <th>min</th>\n",
       "      <td>30.385586</td>\n",
       "      <td>49.575400</td>\n",
       "      <td>3.000000e+06</td>\n",
       "    </tr>\n",
       "    <tr>\n",
       "      <th>25%</th>\n",
       "      <td>31.124022</td>\n",
       "      <td>49.592650</td>\n",
       "      <td>5.250000e+06</td>\n",
       "    </tr>\n",
       "    <tr>\n",
       "      <th>50%</th>\n",
       "      <td>31.922585</td>\n",
       "      <td>54.309136</td>\n",
       "      <td>9.000000e+06</td>\n",
       "    </tr>\n",
       "    <tr>\n",
       "      <th>75%</th>\n",
       "      <td>37.296780</td>\n",
       "      <td>55.185285</td>\n",
       "      <td>1.900000e+07</td>\n",
       "    </tr>\n",
       "    <tr>\n",
       "      <th>max</th>\n",
       "      <td>37.308100</td>\n",
       "      <td>56.008551</td>\n",
       "      <td>3.700000e+07</td>\n",
       "    </tr>\n",
       "  </tbody>\n",
       "</table>\n",
       "</div>"
      ],
      "text/plain": [
       "               x          y         price\n",
       "count  35.000000  35.000000  3.500000e+01\n",
       "mean   34.125872  52.460552  1.345714e+07\n",
       "std     3.164615   2.891682  1.022495e+07\n",
       "min    30.385586  49.575400  3.000000e+06\n",
       "25%    31.124022  49.592650  5.250000e+06\n",
       "50%    31.922585  54.309136  9.000000e+06\n",
       "75%    37.296780  55.185285  1.900000e+07\n",
       "max    37.308100  56.008551  3.700000e+07"
      ]
     },
     "execution_count": 42,
     "metadata": {},
     "output_type": "execute_result"
    }
   ],
   "source": [
    "estate_data.describe()\n"
   ]
  },
  {
   "cell_type": "code",
   "execution_count": 63,
   "id": "0ca2afc5-50f0-47d2-8d40-60f4ecfdb1b8",
   "metadata": {},
   "outputs": [
    {
     "name": "stdout",
     "output_type": "stream",
     "text": [
      "0.011393879936177655\n",
      "[29000000]\n",
      "29,000,000\n"
     ]
    },
    {
     "data": {
      "text/plain": [
       "True"
      ]
     },
     "execution_count": 63,
     "metadata": {},
     "output_type": "execute_result"
    }
   ],
   "source": [
    "x = estate_data['x']\n",
    "y = estate_data['y']\n",
    "\n",
    "def is_possible(x_test,y_test):\n",
    "    for i in range(len(x)):\n",
    "        dist = ((x[i]-x_test)**2 + (y[i]-y_test)**2)**0.5\n",
    "        p = estate_data[\"price\"][i]\n",
    "        if dist < 0.02 :\n",
    "            print(dist)\n",
    "            prediction = model.predict([[x_test , y_test]])\n",
    "            print(prediction)\n",
    "            #print(str(int(prediction[0]))[::-1].replace('000','000,')[::-1])\n",
    "            print(\"{:,}\".format(int(prediction[0])))\n",
    "            return True\n",
    "    return False\n",
    "\n",
    "is_possible(37.2665,49.5815)"
   ]
  },
  {
   "cell_type": "code",
   "execution_count": null,
   "id": "a2f00520-510e-4a7f-aab8-52c28e59b576",
   "metadata": {},
   "outputs": [],
   "source": [
    "from sklearn.tree import export_graphviz\n",
    "from IPython.display import Image  \n",
    "import pydotplus\n",
    "tree.plot_tree(model)\n"
   ]
  }
 ],
 "metadata": {
  "kernelspec": {
   "display_name": "estate_env",
   "language": "python",
   "name": "estate_env"
  },
  "language_info": {
   "codemirror_mode": {
    "name": "ipython",
    "version": 3
   },
   "file_extension": ".py",
   "mimetype": "text/x-python",
   "name": "python",
   "nbconvert_exporter": "python",
   "pygments_lexer": "ipython3",
   "version": "3.9.4"
  }
 },
 "nbformat": 4,
 "nbformat_minor": 5
}
