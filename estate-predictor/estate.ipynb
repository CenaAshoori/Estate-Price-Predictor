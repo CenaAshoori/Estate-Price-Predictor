{
 "cells": [
  {
   "cell_type": "code",
   "execution_count": 1,
   "id": "ede4ecd4-de5b-4d23-8517-790891596095",
   "metadata": {},
   "outputs": [
    {
     "output_type": "stream",
     "name": "stdout",
     "text": [
      "Accuracy :0.5\n[6 3]\n[6]\n"
     ]
    },
    {
     "output_type": "execute_result",
     "data": {
      "text/plain": [
       "           X          Y\n",
       "2  37.299726  49.601541\n",
       "5  37.294380  49.598090"
      ],
      "text/html": "<div>\n<style scoped>\n    .dataframe tbody tr th:only-of-type {\n        vertical-align: middle;\n    }\n\n    .dataframe tbody tr th {\n        vertical-align: top;\n    }\n\n    .dataframe thead th {\n        text-align: right;\n    }\n</style>\n<table border=\"1\" class=\"dataframe\">\n  <thead>\n    <tr style=\"text-align: right;\">\n      <th></th>\n      <th>X</th>\n      <th>Y</th>\n    </tr>\n  </thead>\n  <tbody>\n    <tr>\n      <th>2</th>\n      <td>37.299726</td>\n      <td>49.601541</td>\n    </tr>\n    <tr>\n      <th>5</th>\n      <td>37.294380</td>\n      <td>49.598090</td>\n    </tr>\n  </tbody>\n</table>\n</div>"
     },
     "metadata": {},
     "execution_count": 1
    }
   ],
   "source": [
    "import pandas as pd\n",
    "from sklearn import tree\n",
    "from sklearn.tree import DecisionTreeClassifier\n",
    "from sklearn.model_selection import train_test_split\n",
    "from sklearn.metrics import accuracy_score\n",
    "from matplotlib import pyplot as plt\n",
    "\n",
    "estate_data = pd.read_csv(\"estate.csv\")\n",
    "input_data = estate_data.drop(columns = ['price','area','bath','parking','room'])\n",
    "output_data = estate_data['price']\n",
    "in_train , in_test ,out_train , out_test = train_test_split(input_data , output_data , test_size=0.2)\n",
    "model = DecisionTreeClassifier()\n",
    "model.fit(in_train , out_train)\n",
    "prediction = model.predict(in_test)\n",
    "print(f\"Accuracy :{accuracy_score(out_test , prediction)}\")\n",
    "print(prediction)\n",
    "\n",
    "print(model.predict([[37.3011,49.5899]]))\n",
    "\n",
    "in_test\n"
   ]
  },
  {
   "cell_type": "code",
   "execution_count": 40,
   "id": "a2f00520-510e-4a7f-aab8-52c28e59b576",
   "metadata": {},
   "outputs": [
    {
     "data": {
      "text/plain": [
       "[Text(167.4, 190.26, 'X[0] <= 37.296\\ngini = 0.778\\nsamples = 6\\nvalue = [1, 2, 1, 1, 1]'),\n",
       " Text(83.7, 135.9, 'X[0] <= 37.29\\ngini = 0.625\\nsamples = 4\\nvalue = [1, 2, 0, 1, 0]'),\n",
       " Text(41.85, 81.53999999999999, 'gini = 0.0\\nsamples = 1\\nvalue = [1, 0, 0, 0, 0]'),\n",
       " Text(125.55000000000001, 81.53999999999999, 'X[1] <= 49.592\\ngini = 0.444\\nsamples = 3\\nvalue = [0, 2, 0, 1, 0]'),\n",
       " Text(83.7, 27.180000000000007, 'gini = 0.0\\nsamples = 1\\nvalue = [0, 0, 0, 1, 0]'),\n",
       " Text(167.4, 27.180000000000007, 'gini = 0.0\\nsamples = 2\\nvalue = [0, 2, 0, 0, 0]'),\n",
       " Text(251.10000000000002, 135.9, 'X[0] <= 37.299\\ngini = 0.5\\nsamples = 2\\nvalue = [0, 0, 1, 0, 1]'),\n",
       " Text(209.25, 81.53999999999999, 'gini = 0.0\\nsamples = 1\\nvalue = [0, 0, 0, 0, 1]'),\n",
       " Text(292.95, 81.53999999999999, 'gini = 0.0\\nsamples = 1\\nvalue = [0, 0, 1, 0, 0]')]"
      ]
     },
     "execution_count": 40,
     "metadata": {},
     "output_type": "execute_result"
    },
    {
     "data": {
      "image/png": "[encoded data removed]",
      "text/plain": [
       "<Figure size 432x288 with 1 Axes>"
      ]
     },
     "metadata": {
      "needs_background": "light"
     },
     "output_type": "display_data"
    }
   ],
   "source": [
    "from sklearn.tree import export_graphviz\n",
    "from IPython.display import Image  \n",
    "import pydotplus\n",
    "tree.plot_tree(model)\n"
   ]
  },
  {
   "cell_type": "code",
   "execution_count": 55,
   "id": "701b5177-9115-4779-ba01-05958613c74f",
   "metadata": {},
   "outputs": [
    {
     "name": "stdout",
     "output_type": "stream",
     "text": [
      "https://www.openstreetmap.org/#map=18/37.30734542/49.59219843\n",
      "https://www.openstreetmap.org/#map=18/37.29029/49.59855\n"
     ]
    }
   ],
   "source": [
    "for row in in_test.values :\n",
    "    print(f\"https://www.openstreetmap.org/#map=18/{row[0]}/{row[1]}\")"
   ]
  },
  {
   "cell_type": "code",
   "execution_count": 31,
   "id": "755ee606-2786-4606-b3a2-614fc87b44f7",
   "metadata": {},
   "outputs": [
    {
     "data": {
      "text/html": [
       "<div>\n",
       "<style scoped>\n",
       "    .dataframe tbody tr th:only-of-type {\n",
       "        vertical-align: middle;\n",
       "    }\n",
       "\n",
       "    .dataframe tbody tr th {\n",
       "        vertical-align: top;\n",
       "    }\n",
       "\n",
       "    .dataframe thead th {\n",
       "        text-align: right;\n",
       "    }\n",
       "</style>\n",
       "<table border=\"1\" class=\"dataframe\">\n",
       "  <thead>\n",
       "    <tr style=\"text-align: right;\">\n",
       "      <th></th>\n",
       "      <th>X</th>\n",
       "      <th>Y</th>\n",
       "      <th>area</th>\n",
       "      <th>room</th>\n",
       "      <th>bath</th>\n",
       "      <th>parking</th>\n",
       "      <th>price</th>\n",
       "    </tr>\n",
       "  </thead>\n",
       "  <tbody>\n",
       "    <tr>\n",
       "      <th>0</th>\n",
       "      <td>37.298096</td>\n",
       "      <td>49.591037</td>\n",
       "      <td>100</td>\n",
       "      <td>4</td>\n",
       "      <td>1</td>\n",
       "      <td>1</td>\n",
       "      <td>6.0</td>\n",
       "    </tr>\n",
       "    <tr>\n",
       "      <th>1</th>\n",
       "      <td>37.307345</td>\n",
       "      <td>49.592198</td>\n",
       "      <td>200</td>\n",
       "      <td>5</td>\n",
       "      <td>1</td>\n",
       "      <td>1</td>\n",
       "      <td>4.0</td>\n",
       "    </tr>\n",
       "    <tr>\n",
       "      <th>2</th>\n",
       "      <td>37.299726</td>\n",
       "      <td>49.601541</td>\n",
       "      <td>140</td>\n",
       "      <td>3</td>\n",
       "      <td>2</td>\n",
       "      <td>2</td>\n",
       "      <td>2.0</td>\n",
       "    </tr>\n",
       "    <tr>\n",
       "      <th>3</th>\n",
       "      <td>37.293919</td>\n",
       "      <td>49.590345</td>\n",
       "      <td>130</td>\n",
       "      <td>1</td>\n",
       "      <td>2</td>\n",
       "      <td>2</td>\n",
       "      <td>5.0</td>\n",
       "    </tr>\n",
       "    <tr>\n",
       "      <th>4</th>\n",
       "      <td>37.290534</td>\n",
       "      <td>49.593665</td>\n",
       "      <td>300</td>\n",
       "      <td>4</td>\n",
       "      <td>2</td>\n",
       "      <td>2</td>\n",
       "      <td>5.0</td>\n",
       "    </tr>\n",
       "    <tr>\n",
       "      <th>5</th>\n",
       "      <td>37.294380</td>\n",
       "      <td>49.598090</td>\n",
       "      <td>250</td>\n",
       "      <td>4</td>\n",
       "      <td>1</td>\n",
       "      <td>1</td>\n",
       "      <td>3.0</td>\n",
       "    </tr>\n",
       "    <tr>\n",
       "      <th>6</th>\n",
       "      <td>37.290290</td>\n",
       "      <td>49.598550</td>\n",
       "      <td>100</td>\n",
       "      <td>2</td>\n",
       "      <td>1</td>\n",
       "      <td>1</td>\n",
       "      <td>3.0</td>\n",
       "    </tr>\n",
       "    <tr>\n",
       "      <th>7</th>\n",
       "      <td>37.292120</td>\n",
       "      <td>49.588370</td>\n",
       "      <td>60</td>\n",
       "      <td>1</td>\n",
       "      <td>1</td>\n",
       "      <td>0</td>\n",
       "      <td>1.5</td>\n",
       "    </tr>\n",
       "  </tbody>\n",
       "</table>\n",
       "</div>"
      ],
      "text/plain": [
       "           X          Y  area  room  bath  parking  price\n",
       "0  37.298096  49.591037   100     4     1        1    6.0\n",
       "1  37.307345  49.592198   200     5     1        1    4.0\n",
       "2  37.299726  49.601541   140     3     2        2    2.0\n",
       "3  37.293919  49.590345   130     1     2        2    5.0\n",
       "4  37.290534  49.593665   300     4     2        2    5.0\n",
       "5  37.294380  49.598090   250     4     1        1    3.0\n",
       "6  37.290290  49.598550   100     2     1        1    3.0\n",
       "7  37.292120  49.588370    60     1     1        0    1.5"
      ]
     },
     "execution_count": 31,
     "metadata": {},
     "output_type": "execute_result"
    }
   ],
   "source": [
    "estate_data"
   ]
  }
 ],
 "metadata": {
  "kernelspec": {
   "display_name": "estate_env",
   "language": "python",
   "name": "estate_env"
  },
  "language_info": {
   "codemirror_mode": {
    "name": "ipython",
    "version": 3
   },
   "file_extension": ".py",
   "mimetype": "text/x-python",
   "name": "python",
   "nbconvert_exporter": "python",
   "pygments_lexer": "ipython3",
   "version": "3.9.4"
  }
 },
 "nbformat": 4,
 "nbformat_minor": 5
}